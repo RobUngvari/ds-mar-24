{
 "cells": [
  {
   "cell_type": "code",
   "execution_count": 125,
   "id": "ad240336",
   "metadata": {},
   "outputs": [],
   "source": [
    "import sys; sys.path.append('src')\n",
    "import ds_tools as kt\n",
    "import pandas as pd\n",
    "import numpy as np\n",
    "import pickle\n",
    "import scipy.stats \n",
    "from sklearn import tree\n",
    "from statsmodels.stats.outliers_influence import variance_inflation_factor\n",
    "from statsmodels.tools.tools import add_constant\n",
    "import shap"
   ]
  },
  {
   "cell_type": "code",
   "execution_count": 69,
   "id": "09a4096f",
   "metadata": {},
   "outputs": [],
   "source": [
    "from sklearn.model_selection import train_test_split"
   ]
  },
  {
   "cell_type": "code",
   "execution_count": 70,
   "id": "311e8c64",
   "metadata": {},
   "outputs": [],
   "source": [
    "import seaborn as sns\n",
    "import matplotlib.pyplot as plt\n",
    "%matplotlib inline "
   ]
  },
  {
   "cell_type": "code",
   "execution_count": 71,
   "id": "b2d33afa",
   "metadata": {},
   "outputs": [
    {
     "data": {
      "text/plain": [
       "<module 'ds_tools' from 'E:\\\\working\\\\pet-project\\\\interview\\\\krisztian_kapolnyi\\\\task\\\\ds-mar-24\\\\src\\\\ds_tools.py'>"
      ]
     },
     "execution_count": 71,
     "metadata": {},
     "output_type": "execute_result"
    }
   ],
   "source": [
    "import importlib\n",
    "importlib.reload(kt)"
   ]
  },
  {
   "cell_type": "markdown",
   "id": "3eb98002",
   "metadata": {},
   "source": [
    "Variables"
   ]
  },
  {
   "cell_type": "code",
   "execution_count": 72,
   "id": "32989a69",
   "metadata": {},
   "outputs": [],
   "source": [
    "path_to_dataset = 'dataset/use_case_employee-attrition.csv'"
   ]
  },
  {
   "cell_type": "markdown",
   "id": "222c7abb",
   "metadata": {},
   "source": [
    "Read dataset"
   ]
  },
  {
   "cell_type": "code",
   "execution_count": 73,
   "id": "8ea2eff5",
   "metadata": {},
   "outputs": [],
   "source": [
    "df = pd.read_csv(path_to_dataset)\n",
    "df = kt.ktools.reduce_mem_usage(df)"
   ]
  },
  {
   "cell_type": "markdown",
   "id": "311ed932",
   "metadata": {},
   "source": [
    "Drop feature with no information and low explanatory power"
   ]
  },
  {
   "cell_type": "code",
   "execution_count": 74,
   "id": "8754ab61",
   "metadata": {},
   "outputs": [],
   "source": [
    "df = df.drop(['EmployeeCount', 'Over18', 'StandardHours', 'EmployeeNumber', 'Gender'], axis=1)"
   ]
  },
  {
   "cell_type": "code",
   "execution_count": 75,
   "id": "e84cf71e",
   "metadata": {},
   "outputs": [],
   "source": [
    "df['Attrition'] = (df['Attrition'] == 'Yes').astype(int)"
   ]
  },
  {
   "cell_type": "markdown",
   "id": "f5354c34",
   "metadata": {},
   "source": [
    "Feature engineering"
   ]
  },
  {
   "cell_type": "code",
   "execution_count": 76,
   "id": "968ed18a",
   "metadata": {},
   "outputs": [],
   "source": [
    "one_hot_encoded = pd.get_dummies(df.select_dtypes(include=['object']))"
   ]
  },
  {
   "cell_type": "code",
   "execution_count": 77,
   "id": "1d316869",
   "metadata": {},
   "outputs": [],
   "source": [
    "target = df['Attrition']"
   ]
  },
  {
   "cell_type": "code",
   "execution_count": 78,
   "id": "f50254ec",
   "metadata": {},
   "outputs": [],
   "source": [
    "num_df = df.select_dtypes(include=[np.number]).drop(['Attrition'], axis=1)"
   ]
  },
  {
   "cell_type": "markdown",
   "id": "259fd54a",
   "metadata": {},
   "source": [
    "Remove highly correlated features"
   ]
  },
  {
   "cell_type": "code",
   "execution_count": 79,
   "id": "adbe3072",
   "metadata": {},
   "outputs": [],
   "source": [
    "corr_threashold = .7"
   ]
  },
  {
   "cell_type": "code",
   "execution_count": 80,
   "id": "9adeb3aa",
   "metadata": {},
   "outputs": [
    {
     "data": {
      "text/plain": [
       "JobLevel              MonthlyIncome           True\n",
       "                      TotalWorkingYears       True\n",
       "MonthlyIncome         JobLevel                True\n",
       "                      TotalWorkingYears       True\n",
       "PercentSalaryHike     PerformanceRating       True\n",
       "PerformanceRating     PercentSalaryHike       True\n",
       "TotalWorkingYears     JobLevel                True\n",
       "                      MonthlyIncome           True\n",
       "YearsAtCompany        YearsInCurrentRole      True\n",
       "                      YearsWithCurrManager    True\n",
       "YearsInCurrentRole    YearsAtCompany          True\n",
       "                      YearsWithCurrManager    True\n",
       "YearsWithCurrManager  YearsAtCompany          True\n",
       "                      YearsInCurrentRole      True\n",
       "dtype: bool"
      ]
     },
     "execution_count": 80,
     "metadata": {},
     "output_type": "execute_result"
    }
   ],
   "source": [
    "num_corrs = num_df.corr().abs()\n",
    "num_corrs = ((num_corrs > corr_threashold) & (num_corrs != 1))\n",
    "num_corrs = num_corrs.stack()[num_corrs.stack() == True]\n",
    "num_corrs"
   ]
  },
  {
   "cell_type": "code",
   "execution_count": 81,
   "id": "f821bd26",
   "metadata": {},
   "outputs": [
    {
     "name": "stdout",
     "output_type": "stream",
     "text": [
      "MonthlyIncome already removed\n",
      "MonthlyIncome already removed\n",
      "PerformanceRating already removed\n",
      "JobLevel already removed\n"
     ]
    }
   ],
   "source": [
    "for col_a, col_b in num_corrs.index[:int(num_corrs.index.shape[0] / 2)]:\n",
    "    col_a_corr = df.loc[:, ['Attrition', col_a]].corr().abs().iloc[0,-1]\n",
    "    col_b_corr = df.loc[:, ['Attrition', col_b]].corr().abs().iloc[0,-1]\n",
    "    try:\n",
    "        col_to_rm = col_b if col_a_corr >= col_b_corr else col_a\n",
    "        num_df = num_df.drop(col_to_rm, axis=1)\n",
    "    except KeyError:\n",
    "        print(col_to_rm, 'already removed')"
   ]
  },
  {
   "cell_type": "markdown",
   "id": "27d34cd9",
   "metadata": {},
   "source": [
    "Cleared Dataset"
   ]
  },
  {
   "cell_type": "code",
   "execution_count": 82,
   "id": "885106b2",
   "metadata": {},
   "outputs": [],
   "source": [
    "_X = pd.concat([one_hot_encoded, num_df], axis=1) # df.drop(['Attrition'],axis=1)\n",
    "_y = df['Attrition']"
   ]
  },
  {
   "cell_type": "code",
   "execution_count": 83,
   "id": "2b81afd0",
   "metadata": {},
   "outputs": [],
   "source": [
    "X_train, X_test, y_train, y_test = train_test_split(_X, _y, test_size=0.3, random_state=42, stratify=_y)"
   ]
  },
  {
   "cell_type": "markdown",
   "id": "edf917df",
   "metadata": {},
   "source": [
    "Baseline model feature importances"
   ]
  },
  {
   "cell_type": "code",
   "execution_count": 84,
   "id": "58b9d677",
   "metadata": {},
   "outputs": [],
   "source": [
    "baseline_tree_model = tree.DecisionTreeClassifier()"
   ]
  },
  {
   "cell_type": "code",
   "execution_count": 85,
   "id": "7d5414b2",
   "metadata": {},
   "outputs": [
    {
     "data": {
      "text/html": [
       "<style>#sk-container-id-2 {color: black;}#sk-container-id-2 pre{padding: 0;}#sk-container-id-2 div.sk-toggleable {background-color: white;}#sk-container-id-2 label.sk-toggleable__label {cursor: pointer;display: block;width: 100%;margin-bottom: 0;padding: 0.3em;box-sizing: border-box;text-align: center;}#sk-container-id-2 label.sk-toggleable__label-arrow:before {content: \"▸\";float: left;margin-right: 0.25em;color: #696969;}#sk-container-id-2 label.sk-toggleable__label-arrow:hover:before {color: black;}#sk-container-id-2 div.sk-estimator:hover label.sk-toggleable__label-arrow:before {color: black;}#sk-container-id-2 div.sk-toggleable__content {max-height: 0;max-width: 0;overflow: hidden;text-align: left;background-color: #f0f8ff;}#sk-container-id-2 div.sk-toggleable__content pre {margin: 0.2em;color: black;border-radius: 0.25em;background-color: #f0f8ff;}#sk-container-id-2 input.sk-toggleable__control:checked~div.sk-toggleable__content {max-height: 200px;max-width: 100%;overflow: auto;}#sk-container-id-2 input.sk-toggleable__control:checked~label.sk-toggleable__label-arrow:before {content: \"▾\";}#sk-container-id-2 div.sk-estimator input.sk-toggleable__control:checked~label.sk-toggleable__label {background-color: #d4ebff;}#sk-container-id-2 div.sk-label input.sk-toggleable__control:checked~label.sk-toggleable__label {background-color: #d4ebff;}#sk-container-id-2 input.sk-hidden--visually {border: 0;clip: rect(1px 1px 1px 1px);clip: rect(1px, 1px, 1px, 1px);height: 1px;margin: -1px;overflow: hidden;padding: 0;position: absolute;width: 1px;}#sk-container-id-2 div.sk-estimator {font-family: monospace;background-color: #f0f8ff;border: 1px dotted black;border-radius: 0.25em;box-sizing: border-box;margin-bottom: 0.5em;}#sk-container-id-2 div.sk-estimator:hover {background-color: #d4ebff;}#sk-container-id-2 div.sk-parallel-item::after {content: \"\";width: 100%;border-bottom: 1px solid gray;flex-grow: 1;}#sk-container-id-2 div.sk-label:hover label.sk-toggleable__label {background-color: #d4ebff;}#sk-container-id-2 div.sk-serial::before {content: \"\";position: absolute;border-left: 1px solid gray;box-sizing: border-box;top: 0;bottom: 0;left: 50%;z-index: 0;}#sk-container-id-2 div.sk-serial {display: flex;flex-direction: column;align-items: center;background-color: white;padding-right: 0.2em;padding-left: 0.2em;position: relative;}#sk-container-id-2 div.sk-item {position: relative;z-index: 1;}#sk-container-id-2 div.sk-parallel {display: flex;align-items: stretch;justify-content: center;background-color: white;position: relative;}#sk-container-id-2 div.sk-item::before, #sk-container-id-2 div.sk-parallel-item::before {content: \"\";position: absolute;border-left: 1px solid gray;box-sizing: border-box;top: 0;bottom: 0;left: 50%;z-index: -1;}#sk-container-id-2 div.sk-parallel-item {display: flex;flex-direction: column;z-index: 1;position: relative;background-color: white;}#sk-container-id-2 div.sk-parallel-item:first-child::after {align-self: flex-end;width: 50%;}#sk-container-id-2 div.sk-parallel-item:last-child::after {align-self: flex-start;width: 50%;}#sk-container-id-2 div.sk-parallel-item:only-child::after {width: 0;}#sk-container-id-2 div.sk-dashed-wrapped {border: 1px dashed gray;margin: 0 0.4em 0.5em 0.4em;box-sizing: border-box;padding-bottom: 0.4em;background-color: white;}#sk-container-id-2 div.sk-label label {font-family: monospace;font-weight: bold;display: inline-block;line-height: 1.2em;}#sk-container-id-2 div.sk-label-container {text-align: center;}#sk-container-id-2 div.sk-container {/* jupyter's `normalize.less` sets `[hidden] { display: none; }` but bootstrap.min.css set `[hidden] { display: none !important; }` so we also need the `!important` here to be able to override the default hidden behavior on the sphinx rendered scikit-learn.org. See: https://github.com/scikit-learn/scikit-learn/issues/21755 */display: inline-block !important;position: relative;}#sk-container-id-2 div.sk-text-repr-fallback {display: none;}</style><div id=\"sk-container-id-2\" class=\"sk-top-container\"><div class=\"sk-text-repr-fallback\"><pre>DecisionTreeClassifier()</pre><b>In a Jupyter environment, please rerun this cell to show the HTML representation or trust the notebook. <br />On GitHub, the HTML representation is unable to render, please try loading this page with nbviewer.org.</b></div><div class=\"sk-container\" hidden><div class=\"sk-item\"><div class=\"sk-estimator sk-toggleable\"><input class=\"sk-toggleable__control sk-hidden--visually\" id=\"sk-estimator-id-2\" type=\"checkbox\" checked><label for=\"sk-estimator-id-2\" class=\"sk-toggleable__label sk-toggleable__label-arrow\">DecisionTreeClassifier</label><div class=\"sk-toggleable__content\"><pre>DecisionTreeClassifier()</pre></div></div></div></div></div>"
      ],
      "text/plain": [
       "DecisionTreeClassifier()"
      ]
     },
     "execution_count": 85,
     "metadata": {},
     "output_type": "execute_result"
    }
   ],
   "source": [
    "baseline_tree_model.fit(X_train, y_train)"
   ]
  },
  {
   "cell_type": "code",
   "execution_count": 86,
   "id": "e4c23055",
   "metadata": {},
   "outputs": [],
   "source": [
    "tree_importances = pd.DataFrame(\n",
    "    baseline_tree_model.feature_importances_,\n",
    "    index=baseline_tree_model.feature_names_in_,\n",
    "    columns=['importance']\n",
    "    )\n",
    "tree_importances = tree_importances.sort_values(\"importance\", ascending=False) "
   ]
  },
  {
   "cell_type": "code",
   "execution_count": 87,
   "id": "bf952cba",
   "metadata": {},
   "outputs": [],
   "source": [
    "features_to_remove_by_tree_feat_imp = tree_importances.importance[tree_importances.importance == 0].index"
   ]
  },
  {
   "cell_type": "code",
   "execution_count": 88,
   "id": "9a6151b6",
   "metadata": {},
   "outputs": [
    {
     "data": {
      "text/plain": [
       "Index(['BusinessTravel_Travel_Frequently', 'EducationField_Human Resources',\n",
       "       'Department_Research & Development', 'EducationField_Medical',\n",
       "       'EducationField_Life Sciences', 'MaritalStatus_Married',\n",
       "       'EducationField_Other', 'JobRole_Human Resources', 'JobRole_Manager',\n",
       "       'JobRole_Manufacturing Director', 'JobRole_Research Director',\n",
       "       'BusinessTravel_Non-Travel'],\n",
       "      dtype='object')"
      ]
     },
     "execution_count": 88,
     "metadata": {},
     "output_type": "execute_result"
    }
   ],
   "source": [
    "features_to_remove_by_tree_feat_imp"
   ]
  },
  {
   "cell_type": "markdown",
   "id": "dfa22ada",
   "metadata": {},
   "source": [
    "VIF features"
   ]
  },
  {
   "cell_type": "code",
   "execution_count": 90,
   "id": "7233e940",
   "metadata": {},
   "outputs": [],
   "source": [
    "vif_threshold = 10"
   ]
  },
  {
   "cell_type": "code",
   "execution_count": 91,
   "id": "de830798",
   "metadata": {},
   "outputs": [],
   "source": [
    "X_train__ = X_train_.copy()"
   ]
  },
  {
   "cell_type": "code",
   "execution_count": 92,
   "id": "147a7710",
   "metadata": {},
   "outputs": [],
   "source": [
    "def calculate_vif(df):\n",
    "    vif_data = df.copy() # vif_data = add_constant(df)\n",
    "    vif_values = pd.Series([variance_inflation_factor(vif_data.values, i) \n",
    "                            for i in range(vif_data.shape[1])],\n",
    "                           index=vif_data.columns)\n",
    "    return vif_values"
   ]
  },
  {
   "cell_type": "code",
   "execution_count": 93,
   "id": "5575b766",
   "metadata": {},
   "outputs": [
    {
     "name": "stdout",
     "output_type": "stream",
     "text": [
      "Removing OverTime_No (VIF: 97.01599925043404)\n",
      "Removing Department_Sales (VIF: 15.100830416256251)\n",
      "Removing JobInvolvement (VIF: 14.609369677774701)\n",
      "Removing WorkLifeBalance (VIF: 14.420354798842265)\n"
     ]
    }
   ],
   "source": [
    "features_to_remove_by_vip = list()\n",
    "while True:\n",
    "    vif_values = calculate_vif(X_train__)\n",
    "    max_vif_feature = vif_values.idxmax()\n",
    "    max_vif = vif_values[max_vif_feature]\n",
    "    if max_vif > vif_threshold:\n",
    "        print(f\"Removing {max_vif_feature} (VIF: {max_vif})\")\n",
    "        X_train__ = X_train__.drop(columns=max_vif_feature)\n",
    "        features_to_remove_by_vip.append(max_vif_feature)\n",
    "    else:\n",
    "        break"
   ]
  },
  {
   "cell_type": "markdown",
   "id": "f037004b",
   "metadata": {},
   "source": [
    "Shap 0 features"
   ]
  },
  {
   "cell_type": "code",
   "execution_count": 94,
   "id": "76b40610",
   "metadata": {},
   "outputs": [],
   "source": [
    "explainer = shap.TreeExplainer(baseline_tree_model)\n",
    "shap_values = explainer.shap_values(X_train)\n",
    "abs_sv = np.abs(shap_values)\n",
    "avg_feature_importance_per_class = np.mean(abs_sv, axis=(0,2))"
   ]
  },
  {
   "cell_type": "code",
   "execution_count": 95,
   "id": "6da1b074",
   "metadata": {},
   "outputs": [],
   "source": [
    "features_to_remove_by_shap = list()\n",
    "shap_imps = pd.DataFrame(\n",
    "    avg_feature_importance_per_class,\n",
    "    index=baseline_tree_model.feature_names_in_,\n",
    "    columns=['importance']\n",
    "    )\n",
    "shap_imps = shap_imps.sort_values(\"importance\", ascending=False) "
   ]
  },
  {
   "cell_type": "code",
   "execution_count": 96,
   "id": "295211be",
   "metadata": {},
   "outputs": [
    {
     "data": {
      "text/plain": [
       "Index(['BusinessTravel_Travel_Frequently', 'EducationField_Human Resources',\n",
       "       'Department_Research & Development', 'EducationField_Other',\n",
       "       'EducationField_Life Sciences', 'EducationField_Medical',\n",
       "       'MaritalStatus_Married', 'JobRole_Human Resources', 'JobRole_Manager',\n",
       "       'JobRole_Manufacturing Director', 'JobRole_Research Director',\n",
       "       'BusinessTravel_Non-Travel'],\n",
       "      dtype='object')"
      ]
     },
     "execution_count": 96,
     "metadata": {},
     "output_type": "execute_result"
    }
   ],
   "source": [
    "features_to_remove_by_shap = shap_imps.importance[shap_imps.importance == 0].index\n",
    "features_to_remove_by_shap"
   ]
  },
  {
   "cell_type": "code",
   "execution_count": 114,
   "id": "455def22",
   "metadata": {},
   "outputs": [],
   "source": [
    "features_to_remove_by_corr = list(features_to_remove_by_tree_feat_imp) + list(features_to_remove_by_vip) + list(features_to_remove_by_shap)"
   ]
  },
  {
   "cell_type": "code",
   "execution_count": 115,
   "id": "3f1cc822",
   "metadata": {},
   "outputs": [
    {
     "data": {
      "text/plain": [
       "['BusinessTravel_Travel_Frequently',\n",
       " 'EducationField_Human Resources',\n",
       " 'Department_Research & Development',\n",
       " 'EducationField_Medical',\n",
       " 'EducationField_Life Sciences',\n",
       " 'MaritalStatus_Married',\n",
       " 'EducationField_Other',\n",
       " 'JobRole_Human Resources',\n",
       " 'JobRole_Manager',\n",
       " 'JobRole_Manufacturing Director',\n",
       " 'JobRole_Research Director',\n",
       " 'BusinessTravel_Non-Travel',\n",
       " 'OverTime_No',\n",
       " 'Department_Sales',\n",
       " 'JobInvolvement',\n",
       " 'WorkLifeBalance',\n",
       " 'BusinessTravel_Travel_Frequently',\n",
       " 'EducationField_Human Resources',\n",
       " 'Department_Research & Development',\n",
       " 'EducationField_Other',\n",
       " 'EducationField_Life Sciences',\n",
       " 'EducationField_Medical',\n",
       " 'MaritalStatus_Married',\n",
       " 'JobRole_Human Resources',\n",
       " 'JobRole_Manager',\n",
       " 'JobRole_Manufacturing Director',\n",
       " 'JobRole_Research Director',\n",
       " 'BusinessTravel_Non-Travel']"
      ]
     },
     "execution_count": 115,
     "metadata": {},
     "output_type": "execute_result"
    }
   ],
   "source": [
    "features_to_remove_by_corr"
   ]
  },
  {
   "cell_type": "markdown",
   "id": "5aa591c5",
   "metadata": {},
   "source": [
    "Recursive feature elimination"
   ]
  },
  {
   "cell_type": "code",
   "execution_count": 104,
   "id": "f0d1a0ea",
   "metadata": {},
   "outputs": [
    {
     "name": "stdout",
     "output_type": "stream",
     "text": [
      "[False False False False  True False False False False False False  True\n",
      " False False False False False False  True  True False False False  True\n",
      " False  True  True  True  True  True  True  True  True  True  True  True\n",
      "  True  True  True  True False  True  True False False  True]\n",
      "[24 22 21 15  1 13  4 11  8 10  9  1  7 17 19 18 12 16  1  1  2  6 20  1\n",
      " 23  1  1  1  1  1  1  1  1  1  1  1  1  1  1  1 14  1  1  5  3  1]\n"
     ]
    }
   ],
   "source": [
    "from sklearn.feature_selection import RFE\n",
    "\n",
    "rfe = RFE(baseline_tree_model)\n",
    "rfe = rfe.fit(X_train,y_train)\n",
    "print(rfe.support_)\n",
    "print(rfe.ranking_)"
   ]
  },
  {
   "cell_type": "code",
   "execution_count": 108,
   "id": "01e23197",
   "metadata": {},
   "outputs": [],
   "source": [
    "features_to_remove_by_rfe = baseline_tree_model.feature_names_in_[~rfe.support_]"
   ]
  },
  {
   "cell_type": "code",
   "execution_count": 116,
   "id": "9f8b03b1",
   "metadata": {},
   "outputs": [
    {
     "data": {
      "text/plain": [
       "16"
      ]
     },
     "execution_count": 116,
     "metadata": {},
     "output_type": "execute_result"
    }
   ],
   "source": [
    "len(set(features_to_remove_by_corr))"
   ]
  },
  {
   "cell_type": "code",
   "execution_count": 117,
   "id": "370fc3ad",
   "metadata": {},
   "outputs": [
    {
     "data": {
      "text/plain": [
       "23"
      ]
     },
     "execution_count": 117,
     "metadata": {},
     "output_type": "execute_result"
    }
   ],
   "source": [
    "len(set(features_to_remove_by_rfe))"
   ]
  },
  {
   "cell_type": "code",
   "execution_count": 119,
   "id": "ffdd0b61",
   "metadata": {},
   "outputs": [
    {
     "data": {
      "text/plain": [
       "13"
      ]
     },
     "execution_count": 119,
     "metadata": {},
     "output_type": "execute_result"
    }
   ],
   "source": [
    "features_to_remove = set(features_to_remove_by_corr).intersection(set(features_to_remove_by_rfe))\n",
    "len(features_to_remove)"
   ]
  },
  {
   "cell_type": "markdown",
   "id": "0f16ed3c",
   "metadata": {},
   "source": [
    "Filter out"
   ]
  },
  {
   "cell_type": "code",
   "execution_count": 120,
   "id": "d6a3d51f",
   "metadata": {},
   "outputs": [],
   "source": [
    "X_train_ = X_train[[c for c in X_train.columns if c not in features_to_remove]]\n",
    "X_test_ = X_test[[c for c in X_test.columns if c not in features_to_remove]]"
   ]
  },
  {
   "cell_type": "code",
   "execution_count": 126,
   "id": "4f0ddd1a",
   "metadata": {},
   "outputs": [],
   "source": [
    "with open('dataset/trainable.p', 'wb') as f:\n",
    "    pickle.dump(\n",
    "                {\n",
    "                    'pd_version' : pd.__version__,\n",
    "                    'X_train' : X_train_,\n",
    "                    'X_test' : X_test_,\n",
    "                    'y_train' : y_train,\n",
    "                    'y_test' : y_test,\n",
    "                }, f)"
   ]
  },
  {
   "cell_type": "code",
   "execution_count": null,
   "id": "d7557f40",
   "metadata": {},
   "outputs": [],
   "source": []
  },
  {
   "cell_type": "code",
   "execution_count": null,
   "id": "f18e4ab2",
   "metadata": {},
   "outputs": [],
   "source": []
  }
 ],
 "metadata": {
  "kernelspec": {
   "display_name": "Python 3 (ipykernel)",
   "language": "python",
   "name": "python3"
  },
  "language_info": {
   "codemirror_mode": {
    "name": "ipython",
    "version": 3
   },
   "file_extension": ".py",
   "mimetype": "text/x-python",
   "name": "python",
   "nbconvert_exporter": "python",
   "pygments_lexer": "ipython3",
   "version": "3.11.4"
  }
 },
 "nbformat": 4,
 "nbformat_minor": 5
}
