{
 "cells": [
  {
   "cell_type": "code",
   "execution_count": 69,
   "id": "ad240336",
   "metadata": {},
   "outputs": [],
   "source": [
    "import sys; sys.path.append('src')\n",
    "import ds_tools as kt\n",
    "import pandas as pd\n",
    "import numpy as np\n",
    "import pickle\n",
    "import scipy.stats \n",
    "from sklearn import tree\n",
    "from statsmodels.stats.outliers_influence import variance_inflation_factor\n",
    "from sklearn.metrics import confusion_matrix, classification_report\n",
    "from sklearn.model_selection import train_test_split\n",
    "from statsmodels.tools.tools import add_constant\n",
    "from catboost import CatBoostClassifier, Pool\n",
    "from sklearn.metrics import accuracy_score\n",
    "from sklearn.preprocessing import LabelEncoder\n",
    "import shap"
   ]
  },
  {
   "cell_type": "code",
   "execution_count": 2,
   "id": "e3ce93e7",
   "metadata": {},
   "outputs": [],
   "source": [
    "from sklearn.model_selection import train_test_split"
   ]
  },
  {
   "cell_type": "code",
   "execution_count": 3,
   "id": "311e8c64",
   "metadata": {},
   "outputs": [],
   "source": [
    "import seaborn as sns\n",
    "import matplotlib.pyplot as plt\n",
    "%matplotlib inline "
   ]
  },
  {
   "cell_type": "code",
   "execution_count": 4,
   "id": "b2d33afa",
   "metadata": {},
   "outputs": [
    {
     "data": {
      "text/plain": [
       "<module 'ds_tools' from 'E:\\\\working\\\\pet-project\\\\interview\\\\krisztian_kapolnyi\\\\task\\\\ds-mar-24\\\\src\\\\ds_tools.py'>"
      ]
     },
     "execution_count": 4,
     "metadata": {},
     "output_type": "execute_result"
    }
   ],
   "source": [
    "import importlib\n",
    "importlib.reload(kt)"
   ]
  },
  {
   "cell_type": "markdown",
   "id": "3eb98002",
   "metadata": {},
   "source": [
    "Variables"
   ]
  },
  {
   "cell_type": "code",
   "execution_count": 5,
   "id": "32989a69",
   "metadata": {},
   "outputs": [],
   "source": [
    "path_to_dataset = 'dataset/use_case_employee-attrition.csv'"
   ]
  },
  {
   "cell_type": "markdown",
   "id": "222c7abb",
   "metadata": {},
   "source": [
    "Read dataset"
   ]
  },
  {
   "cell_type": "code",
   "execution_count": 6,
   "id": "8ea2eff5",
   "metadata": {},
   "outputs": [],
   "source": [
    "df = pd.read_csv(path_to_dataset)\n",
    "df = kt.ktools.reduce_mem_usage(df)"
   ]
  },
  {
   "cell_type": "markdown",
   "id": "311ed932",
   "metadata": {},
   "source": [
    "Drop feature with no information and low explanatory power"
   ]
  },
  {
   "cell_type": "code",
   "execution_count": 7,
   "id": "8754ab61",
   "metadata": {},
   "outputs": [],
   "source": [
    "df = df.drop(['EmployeeCount', 'Over18', 'StandardHours', 'EmployeeNumber'], axis=1)"
   ]
  },
  {
   "cell_type": "code",
   "execution_count": 8,
   "id": "0c7fe0a3",
   "metadata": {},
   "outputs": [],
   "source": [
    "df['Attrition'] = (df['Attrition'] == 'Yes').astype(int)"
   ]
  },
  {
   "cell_type": "markdown",
   "id": "ff41d201",
   "metadata": {},
   "source": [
    "Catboost feature importances"
   ]
  },
  {
   "cell_type": "code",
   "execution_count": 55,
   "id": "12d7ec5e",
   "metadata": {},
   "outputs": [
    {
     "data": {
      "text/plain": [
       "Index(['BusinessTravel', 'Department', 'EducationField', 'Gender', 'JobRole',\n",
       "       'MaritalStatus', 'OverTime'],\n",
       "      dtype='object')"
      ]
     },
     "execution_count": 55,
     "metadata": {},
     "output_type": "execute_result"
    }
   ],
   "source": [
    "X_train.select_dtypes('object').columns"
   ]
  },
  {
   "cell_type": "code",
   "execution_count": 73,
   "id": "08c05053",
   "metadata": {},
   "outputs": [
    {
     "name": "stdout",
     "output_type": "stream",
     "text": [
      "0:\tlearn: 0.6173412\ttotal: 5.03ms\tremaining: 5.02s\n",
      "100:\tlearn: 0.1130349\ttotal: 148ms\tremaining: 1.32s\n",
      "200:\tlearn: 0.0393024\ttotal: 293ms\tremaining: 1.16s\n",
      "300:\tlearn: 0.0194475\ttotal: 435ms\tremaining: 1.01s\n",
      "400:\tlearn: 0.0120829\ttotal: 580ms\tremaining: 866ms\n",
      "500:\tlearn: 0.0085805\ttotal: 722ms\tremaining: 719ms\n",
      "600:\tlearn: 0.0064286\ttotal: 866ms\tremaining: 575ms\n",
      "700:\tlearn: 0.0052320\ttotal: 1.01s\tremaining: 429ms\n",
      "800:\tlearn: 0.0043437\ttotal: 1.15s\tremaining: 285ms\n",
      "900:\tlearn: 0.0037647\ttotal: 1.28s\tremaining: 141ms\n",
      "999:\tlearn: 0.0034505\ttotal: 1.42s\tremaining: 0us\n"
     ]
    }
   ],
   "source": [
    "X_train, X_test, y_train, y_test = train_test_split(df.drop('Attrition', axis=1), \n",
    "                                                    (df['Attrition'] == 1).astype(int), \n",
    "                                                    test_size=0.2, \n",
    "                                                    random_state=42)\n",
    "\n",
    "label_encoders = {}\n",
    "cat_features = X_train.select_dtypes('object').columns\n",
    "for feature in cat_features:\n",
    "    label_encoders[feature] = LabelEncoder()\n",
    "    X_train[feature] = label_encoders[feature].fit_transform(X_train[feature])\n",
    "    X_test[feature] = label_encoders[feature].transform(X_test[feature])\n",
    "\n",
    "model = CatBoostClassifier(iterations=1000, \n",
    "                           learning_rate=0.1, \n",
    "                           depth=6, \n",
    "                           loss_function='Logloss',\n",
    "                           verbose=100\n",
    "                           )\n",
    "\n",
    "model.fit(X_train, y_train, cat_features=[])\n",
    "\n",
    "y_pred = model.predict(X_test)"
   ]
  },
  {
   "cell_type": "code",
   "execution_count": 66,
   "id": "fe75613d",
   "metadata": {},
   "outputs": [
    {
     "name": "stdout",
     "output_type": "stream",
     "text": [
      "Confusion Matrix:\n",
      "[[252   3]\n",
      " [ 28  11]]\n"
     ]
    }
   ],
   "source": [
    "conf_matrix = confusion_matrix(y_test, y_pred)\n",
    "print(\"Confusion Matrix:\")\n",
    "print(conf_matrix)"
   ]
  },
  {
   "cell_type": "code",
   "execution_count": 65,
   "id": "b15ff3a3",
   "metadata": {},
   "outputs": [
    {
     "name": "stdout",
     "output_type": "stream",
     "text": [
      "\n",
      "Classification Report:\n",
      "              precision    recall  f1-score   support\n",
      "\n",
      "           0       0.90      0.99      0.94       255\n",
      "           1       0.79      0.28      0.42        39\n",
      "\n",
      "    accuracy                           0.89       294\n",
      "   macro avg       0.84      0.64      0.68       294\n",
      "weighted avg       0.88      0.89      0.87       294\n",
      "\n"
     ]
    }
   ],
   "source": [
    "print(\"\\nClassification Report:\")\n",
    "print(classification_report(y_test, y_pred))"
   ]
  },
  {
   "cell_type": "code",
   "execution_count": 76,
   "id": "184359ed",
   "metadata": {
    "scrolled": false
   },
   "outputs": [
    {
     "data": {
      "application/vnd.jupyter.widget-view+json": {
       "model_id": "ece82ecc2b4d4d1f8a093059b9ad67ba",
       "version_major": 2,
       "version_minor": 0
      },
      "text/plain": [
       "MetricVisualizer(layout=Layout(align_self='stretch', height='500px'))"
      ]
     },
     "metadata": {},
     "output_type": "display_data"
    },
    {
     "name": "stdout",
     "output_type": "stream",
     "text": [
      "Training on fold [0/5]\n",
      "0:\tlearn: 0.6300225\ttest: 0.6361853\tbest: 0.6361853 (0)\ttotal: 1.98ms\tremaining: 1.97s\n",
      "100:\tlearn: 0.0991939\ttest: 0.3436873\tbest: 0.3308114 (59)\ttotal: 157ms\tremaining: 1.4s\n",
      "200:\tlearn: 0.0354917\ttest: 0.3698663\tbest: 0.3308114 (59)\ttotal: 307ms\tremaining: 1.22s\n",
      "300:\tlearn: 0.0172575\ttest: 0.4015687\tbest: 0.3308114 (59)\ttotal: 457ms\tremaining: 1.06s\n",
      "400:\tlearn: 0.0106836\ttest: 0.4197446\tbest: 0.3308114 (59)\ttotal: 617ms\tremaining: 921ms\n",
      "500:\tlearn: 0.0074189\ttest: 0.4327765\tbest: 0.3308114 (59)\ttotal: 784ms\tremaining: 781ms\n",
      "600:\tlearn: 0.0055524\ttest: 0.4497346\tbest: 0.3308114 (59)\ttotal: 949ms\tremaining: 630ms\n",
      "700:\tlearn: 0.0045272\ttest: 0.4620458\tbest: 0.3308114 (59)\ttotal: 1.12s\tremaining: 479ms\n",
      "800:\tlearn: 0.0037519\ttest: 0.4731163\tbest: 0.3308114 (59)\ttotal: 1.27s\tremaining: 317ms\n",
      "900:\tlearn: 0.0031207\ttest: 0.4844748\tbest: 0.3308114 (59)\ttotal: 1.45s\tremaining: 160ms\n",
      "999:\tlearn: 0.0026702\ttest: 0.4945141\tbest: 0.3308114 (59)\ttotal: 1.6s\tremaining: 0us\n",
      "\n",
      "bestTest = 0.3308114431\n",
      "bestIteration = 59\n",
      "\n",
      "Training on fold [1/5]\n",
      "0:\tlearn: 0.6192943\ttest: 0.6196361\tbest: 0.6196361 (0)\ttotal: 12.2ms\tremaining: 12.1s\n",
      "100:\tlearn: 0.0920109\ttest: 0.3224423\tbest: 0.3175314 (62)\ttotal: 215ms\tremaining: 1.92s\n",
      "200:\tlearn: 0.0334189\ttest: 0.3428865\tbest: 0.3175314 (62)\ttotal: 369ms\tremaining: 1.47s\n",
      "300:\tlearn: 0.0163158\ttest: 0.3731872\tbest: 0.3175314 (62)\ttotal: 535ms\tremaining: 1.24s\n",
      "400:\tlearn: 0.0107296\ttest: 0.3903934\tbest: 0.3175314 (62)\ttotal: 692ms\tremaining: 1.03s\n",
      "500:\tlearn: 0.0071972\ttest: 0.4068157\tbest: 0.3175314 (62)\ttotal: 853ms\tremaining: 849ms\n",
      "600:\tlearn: 0.0053306\ttest: 0.4235905\tbest: 0.3175314 (62)\ttotal: 1.06s\tremaining: 703ms\n",
      "700:\tlearn: 0.0043800\ttest: 0.4365730\tbest: 0.3175314 (62)\ttotal: 1.23s\tremaining: 523ms\n",
      "800:\tlearn: 0.0037565\ttest: 0.4463548\tbest: 0.3175314 (62)\ttotal: 1.38s\tremaining: 344ms\n",
      "900:\tlearn: 0.0032636\ttest: 0.4553383\tbest: 0.3175314 (62)\ttotal: 1.55s\tremaining: 170ms\n",
      "999:\tlearn: 0.0029043\ttest: 0.4611471\tbest: 0.3175314 (62)\ttotal: 1.7s\tremaining: 0us\n",
      "\n",
      "bestTest = 0.3175313576\n",
      "bestIteration = 62\n",
      "\n",
      "Training on fold [2/5]\n",
      "0:\tlearn: 0.6232628\ttest: 0.6269596\tbest: 0.6269596 (0)\ttotal: 8.79ms\tremaining: 8.78s\n",
      "100:\tlearn: 0.0960330\ttest: 0.3081522\tbest: 0.3075270 (98)\ttotal: 208ms\tremaining: 1.85s\n",
      "200:\tlearn: 0.0330005\ttest: 0.3284879\tbest: 0.3075270 (98)\ttotal: 361ms\tremaining: 1.43s\n",
      "300:\tlearn: 0.0168142\ttest: 0.3460518\tbest: 0.3075270 (98)\ttotal: 531ms\tremaining: 1.23s\n",
      "400:\tlearn: 0.0107149\ttest: 0.3657680\tbest: 0.3075270 (98)\ttotal: 689ms\tremaining: 1.03s\n",
      "500:\tlearn: 0.0074058\ttest: 0.3793366\tbest: 0.3075270 (98)\ttotal: 845ms\tremaining: 841ms\n",
      "600:\tlearn: 0.0056751\ttest: 0.3904618\tbest: 0.3075270 (98)\ttotal: 998ms\tremaining: 663ms\n",
      "700:\tlearn: 0.0044892\ttest: 0.3997637\tbest: 0.3075270 (98)\ttotal: 1.18s\tremaining: 505ms\n",
      "800:\tlearn: 0.0036552\ttest: 0.4107614\tbest: 0.3075270 (98)\ttotal: 1.33s\tremaining: 332ms\n",
      "900:\tlearn: 0.0031293\ttest: 0.4178654\tbest: 0.3075270 (98)\ttotal: 1.5s\tremaining: 165ms\n",
      "999:\tlearn: 0.0026872\ttest: 0.4251291\tbest: 0.3075270 (98)\ttotal: 1.66s\tremaining: 0us\n",
      "\n",
      "bestTest = 0.3075269607\n",
      "bestIteration = 98\n",
      "\n",
      "Training on fold [3/5]\n",
      "0:\tlearn: 0.6149978\ttest: 0.6210320\tbest: 0.6210320 (0)\ttotal: 16.1ms\tremaining: 16.1s\n",
      "100:\tlearn: 0.0867423\ttest: 0.4004005\tbest: 0.3807236 (55)\ttotal: 233ms\tremaining: 2.08s\n",
      "200:\tlearn: 0.0293772\ttest: 0.4612807\tbest: 0.3807236 (55)\ttotal: 384ms\tremaining: 1.53s\n",
      "300:\tlearn: 0.0141583\ttest: 0.5157566\tbest: 0.3807236 (55)\ttotal: 538ms\tremaining: 1.25s\n",
      "400:\tlearn: 0.0085367\ttest: 0.5561142\tbest: 0.3807236 (55)\ttotal: 701ms\tremaining: 1.05s\n",
      "500:\tlearn: 0.0060104\ttest: 0.5804706\tbest: 0.3807236 (55)\ttotal: 874ms\tremaining: 871ms\n",
      "600:\tlearn: 0.0044726\ttest: 0.6018923\tbest: 0.3807236 (55)\ttotal: 1.04s\tremaining: 694ms\n",
      "700:\tlearn: 0.0036104\ttest: 0.6178233\tbest: 0.3807236 (55)\ttotal: 1.24s\tremaining: 530ms\n",
      "800:\tlearn: 0.0030581\ttest: 0.6309800\tbest: 0.3807236 (55)\ttotal: 1.42s\tremaining: 352ms\n",
      "900:\tlearn: 0.0026908\ttest: 0.6391550\tbest: 0.3807236 (55)\ttotal: 1.57s\tremaining: 173ms\n",
      "999:\tlearn: 0.0024967\ttest: 0.6462405\tbest: 0.3807236 (55)\ttotal: 1.75s\tremaining: 0us\n",
      "\n",
      "bestTest = 0.3807235515\n",
      "bestIteration = 55\n",
      "\n",
      "Training on fold [4/5]\n",
      "0:\tlearn: 0.6202005\ttest: 0.6187118\tbest: 0.6187118 (0)\ttotal: 1.83ms\tremaining: 1.82s\n",
      "100:\tlearn: 0.0960003\ttest: 0.3439875\tbest: 0.3379725 (84)\ttotal: 163ms\tremaining: 1.46s\n",
      "200:\tlearn: 0.0337971\ttest: 0.3737300\tbest: 0.3379725 (84)\ttotal: 371ms\tremaining: 1.47s\n",
      "300:\tlearn: 0.0171627\ttest: 0.4052338\tbest: 0.3379725 (84)\ttotal: 526ms\tremaining: 1.22s\n",
      "400:\tlearn: 0.0103678\ttest: 0.4250766\tbest: 0.3379725 (84)\ttotal: 694ms\tremaining: 1.04s\n",
      "500:\tlearn: 0.0072066\ttest: 0.4496158\tbest: 0.3379725 (84)\ttotal: 884ms\tremaining: 881ms\n",
      "600:\tlearn: 0.0055773\ttest: 0.4651999\tbest: 0.3379725 (84)\ttotal: 1.04s\tremaining: 691ms\n",
      "700:\tlearn: 0.0044695\ttest: 0.4796880\tbest: 0.3379725 (84)\ttotal: 1.19s\tremaining: 508ms\n",
      "800:\tlearn: 0.0037996\ttest: 0.4899147\tbest: 0.3379725 (84)\ttotal: 1.43s\tremaining: 356ms\n",
      "900:\tlearn: 0.0032400\ttest: 0.4989877\tbest: 0.3379725 (84)\ttotal: 1.59s\tremaining: 174ms\n",
      "999:\tlearn: 0.0028711\ttest: 0.5050529\tbest: 0.3379725 (84)\ttotal: 1.73s\tremaining: 0us\n",
      "\n",
      "bestTest = 0.3379725258\n",
      "bestIteration = 84\n",
      "\n"
     ]
    }
   ],
   "source": [
    "import pandas as pd\n",
    "from catboost import CatBoostClassifier, Pool, cv\n",
    "\n",
    "train_pool = Pool(data=X_train, label=y_train, cat_features=[])\n",
    "\n",
    "\n",
    "params = {\n",
    "    'iterations': 1000, \n",
    "    'learning_rate': 0.1,  \n",
    "    'depth': 6, \n",
    "    'loss_function': 'Logloss', \n",
    "    'verbose': 100  \n",
    "}\n",
    "\n",
    "\n",
    "cv_results = cv(pool=train_pool,\n",
    "                params=params,\n",
    "                fold_count=5, \n",
    "                shuffle=True,\n",
    "                partition_random_seed=42,  \n",
    "                plot=True,  \n",
    "                stratified=True  \n",
    "                )"
   ]
  },
  {
   "cell_type": "code",
   "execution_count": 81,
   "id": "3f8d9f1b",
   "metadata": {},
   "outputs": [],
   "source": [
    "# Get feature importances\n",
    "feature_importances = model.get_feature_importance(type='FeatureImportance')\n",
    "\n",
    "# Create a DataFrame to display feature importances\n",
    "importance_df = pd.DataFrame({'Feature': X_train.columns, 'Importance': feature_importances})\n",
    "importance_df = importance_df.sort_values(by='Importance', ascending=False)"
   ]
  },
  {
   "cell_type": "code",
   "execution_count": 82,
   "id": "364dedcd",
   "metadata": {},
   "outputs": [
    {
     "data": {
      "text/html": [
       "<div>\n",
       "<style scoped>\n",
       "    .dataframe tbody tr th:only-of-type {\n",
       "        vertical-align: middle;\n",
       "    }\n",
       "\n",
       "    .dataframe tbody tr th {\n",
       "        vertical-align: top;\n",
       "    }\n",
       "\n",
       "    .dataframe thead th {\n",
       "        text-align: right;\n",
       "    }\n",
       "</style>\n",
       "<table border=\"1\" class=\"dataframe\">\n",
       "  <thead>\n",
       "    <tr style=\"text-align: right;\">\n",
       "      <th></th>\n",
       "      <th>Feature</th>\n",
       "      <th>Importance</th>\n",
       "    </tr>\n",
       "  </thead>\n",
       "  <tbody>\n",
       "    <tr>\n",
       "      <th>18</th>\n",
       "      <td>OverTime</td>\n",
       "      <td>7.963267</td>\n",
       "    </tr>\n",
       "    <tr>\n",
       "      <th>15</th>\n",
       "      <td>MonthlyIncome</td>\n",
       "      <td>6.567036</td>\n",
       "    </tr>\n",
       "    <tr>\n",
       "      <th>0</th>\n",
       "      <td>Age</td>\n",
       "      <td>5.533873</td>\n",
       "    </tr>\n",
       "    <tr>\n",
       "      <th>13</th>\n",
       "      <td>JobSatisfaction</td>\n",
       "      <td>4.804943</td>\n",
       "    </tr>\n",
       "    <tr>\n",
       "      <th>9</th>\n",
       "      <td>HourlyRate</td>\n",
       "      <td>4.754203</td>\n",
       "    </tr>\n",
       "    <tr>\n",
       "      <th>4</th>\n",
       "      <td>DistanceFromHome</td>\n",
       "      <td>4.428343</td>\n",
       "    </tr>\n",
       "    <tr>\n",
       "      <th>16</th>\n",
       "      <td>MonthlyRate</td>\n",
       "      <td>4.398859</td>\n",
       "    </tr>\n",
       "    <tr>\n",
       "      <th>12</th>\n",
       "      <td>JobRole</td>\n",
       "      <td>4.205455</td>\n",
       "    </tr>\n",
       "    <tr>\n",
       "      <th>2</th>\n",
       "      <td>DailyRate</td>\n",
       "      <td>4.205135</td>\n",
       "    </tr>\n",
       "    <tr>\n",
       "      <th>7</th>\n",
       "      <td>EnvironmentSatisfaction</td>\n",
       "      <td>4.204168</td>\n",
       "    </tr>\n",
       "    <tr>\n",
       "      <th>21</th>\n",
       "      <td>RelationshipSatisfaction</td>\n",
       "      <td>4.031393</td>\n",
       "    </tr>\n",
       "    <tr>\n",
       "      <th>22</th>\n",
       "      <td>StockOptionLevel</td>\n",
       "      <td>3.703234</td>\n",
       "    </tr>\n",
       "    <tr>\n",
       "      <th>29</th>\n",
       "      <td>YearsWithCurrManager</td>\n",
       "      <td>3.652633</td>\n",
       "    </tr>\n",
       "    <tr>\n",
       "      <th>17</th>\n",
       "      <td>NumCompaniesWorked</td>\n",
       "      <td>3.626192</td>\n",
       "    </tr>\n",
       "    <tr>\n",
       "      <th>25</th>\n",
       "      <td>WorkLifeBalance</td>\n",
       "      <td>3.145704</td>\n",
       "    </tr>\n",
       "    <tr>\n",
       "      <th>19</th>\n",
       "      <td>PercentSalaryHike</td>\n",
       "      <td>3.031307</td>\n",
       "    </tr>\n",
       "    <tr>\n",
       "      <th>28</th>\n",
       "      <td>YearsSinceLastPromotion</td>\n",
       "      <td>2.976616</td>\n",
       "    </tr>\n",
       "    <tr>\n",
       "      <th>14</th>\n",
       "      <td>MaritalStatus</td>\n",
       "      <td>2.967068</td>\n",
       "    </tr>\n",
       "    <tr>\n",
       "      <th>23</th>\n",
       "      <td>TotalWorkingYears</td>\n",
       "      <td>2.846529</td>\n",
       "    </tr>\n",
       "    <tr>\n",
       "      <th>24</th>\n",
       "      <td>TrainingTimesLastYear</td>\n",
       "      <td>2.275428</td>\n",
       "    </tr>\n",
       "    <tr>\n",
       "      <th>11</th>\n",
       "      <td>JobLevel</td>\n",
       "      <td>2.209249</td>\n",
       "    </tr>\n",
       "    <tr>\n",
       "      <th>10</th>\n",
       "      <td>JobInvolvement</td>\n",
       "      <td>2.143694</td>\n",
       "    </tr>\n",
       "    <tr>\n",
       "      <th>27</th>\n",
       "      <td>YearsInCurrentRole</td>\n",
       "      <td>2.103089</td>\n",
       "    </tr>\n",
       "    <tr>\n",
       "      <th>1</th>\n",
       "      <td>BusinessTravel</td>\n",
       "      <td>1.918016</td>\n",
       "    </tr>\n",
       "    <tr>\n",
       "      <th>26</th>\n",
       "      <td>YearsAtCompany</td>\n",
       "      <td>1.902836</td>\n",
       "    </tr>\n",
       "    <tr>\n",
       "      <th>6</th>\n",
       "      <td>EducationField</td>\n",
       "      <td>1.846884</td>\n",
       "    </tr>\n",
       "    <tr>\n",
       "      <th>5</th>\n",
       "      <td>Education</td>\n",
       "      <td>1.826796</td>\n",
       "    </tr>\n",
       "    <tr>\n",
       "      <th>3</th>\n",
       "      <td>Department</td>\n",
       "      <td>1.307979</td>\n",
       "    </tr>\n",
       "    <tr>\n",
       "      <th>8</th>\n",
       "      <td>Gender</td>\n",
       "      <td>1.151925</td>\n",
       "    </tr>\n",
       "    <tr>\n",
       "      <th>20</th>\n",
       "      <td>PerformanceRating</td>\n",
       "      <td>0.268147</td>\n",
       "    </tr>\n",
       "  </tbody>\n",
       "</table>\n",
       "</div>"
      ],
      "text/plain": [
       "                     Feature  Importance\n",
       "18                  OverTime    7.963267\n",
       "15             MonthlyIncome    6.567036\n",
       "0                        Age    5.533873\n",
       "13           JobSatisfaction    4.804943\n",
       "9                 HourlyRate    4.754203\n",
       "4           DistanceFromHome    4.428343\n",
       "16               MonthlyRate    4.398859\n",
       "12                   JobRole    4.205455\n",
       "2                  DailyRate    4.205135\n",
       "7    EnvironmentSatisfaction    4.204168\n",
       "21  RelationshipSatisfaction    4.031393\n",
       "22          StockOptionLevel    3.703234\n",
       "29      YearsWithCurrManager    3.652633\n",
       "17        NumCompaniesWorked    3.626192\n",
       "25           WorkLifeBalance    3.145704\n",
       "19         PercentSalaryHike    3.031307\n",
       "28   YearsSinceLastPromotion    2.976616\n",
       "14             MaritalStatus    2.967068\n",
       "23         TotalWorkingYears    2.846529\n",
       "24     TrainingTimesLastYear    2.275428\n",
       "11                  JobLevel    2.209249\n",
       "10            JobInvolvement    2.143694\n",
       "27        YearsInCurrentRole    2.103089\n",
       "1             BusinessTravel    1.918016\n",
       "26            YearsAtCompany    1.902836\n",
       "6             EducationField    1.846884\n",
       "5                  Education    1.826796\n",
       "3                 Department    1.307979\n",
       "8                     Gender    1.151925\n",
       "20         PerformanceRating    0.268147"
      ]
     },
     "execution_count": 82,
     "metadata": {},
     "output_type": "execute_result"
    }
   ],
   "source": [
    "importance_df"
   ]
  },
  {
   "cell_type": "markdown",
   "id": "897bd97b",
   "metadata": {},
   "source": [
    "Feature engineering"
   ]
  },
  {
   "cell_type": "code",
   "execution_count": 9,
   "id": "af53331a",
   "metadata": {},
   "outputs": [],
   "source": [
    "one_hot_encoded = pd.get_dummies(df.select_dtypes(include=['object']))"
   ]
  },
  {
   "cell_type": "code",
   "execution_count": 10,
   "id": "bfd27327",
   "metadata": {},
   "outputs": [],
   "source": [
    "target = df['Attrition']"
   ]
  },
  {
   "cell_type": "code",
   "execution_count": 11,
   "id": "d5fc617c",
   "metadata": {},
   "outputs": [],
   "source": [
    "num_df = df.select_dtypes(include=[np.number]).drop(['Attrition'], axis=1)"
   ]
  },
  {
   "cell_type": "markdown",
   "id": "ef83d5b3",
   "metadata": {},
   "source": [
    "Remove highly correlated features"
   ]
  },
  {
   "cell_type": "code",
   "execution_count": 12,
   "id": "22f3f209",
   "metadata": {},
   "outputs": [],
   "source": [
    "corr_threashold = .7"
   ]
  },
  {
   "cell_type": "code",
   "execution_count": 13,
   "id": "7290bb21",
   "metadata": {},
   "outputs": [
    {
     "data": {
      "text/plain": [
       "JobLevel              MonthlyIncome           True\n",
       "                      TotalWorkingYears       True\n",
       "MonthlyIncome         JobLevel                True\n",
       "                      TotalWorkingYears       True\n",
       "PercentSalaryHike     PerformanceRating       True\n",
       "PerformanceRating     PercentSalaryHike       True\n",
       "TotalWorkingYears     JobLevel                True\n",
       "                      MonthlyIncome           True\n",
       "YearsAtCompany        YearsInCurrentRole      True\n",
       "                      YearsWithCurrManager    True\n",
       "YearsInCurrentRole    YearsAtCompany          True\n",
       "                      YearsWithCurrManager    True\n",
       "YearsWithCurrManager  YearsAtCompany          True\n",
       "                      YearsInCurrentRole      True\n",
       "dtype: bool"
      ]
     },
     "execution_count": 13,
     "metadata": {},
     "output_type": "execute_result"
    }
   ],
   "source": [
    "num_corrs = num_df.corr().abs()\n",
    "num_corrs = ((num_corrs > corr_threashold) & (num_corrs != 1))\n",
    "num_corrs = num_corrs.stack()[num_corrs.stack() == True]\n",
    "num_corrs"
   ]
  },
  {
   "cell_type": "code",
   "execution_count": 14,
   "id": "b0020b41",
   "metadata": {},
   "outputs": [
    {
     "name": "stdout",
     "output_type": "stream",
     "text": [
      "MonthlyIncome already removed\n",
      "MonthlyIncome already removed\n",
      "PerformanceRating already removed\n",
      "JobLevel already removed\n"
     ]
    }
   ],
   "source": [
    "for col_a, col_b in num_corrs.index[:int(num_corrs.index.shape[0] / 2)]:\n",
    "    col_a_corr = df.loc[:, ['Attrition', col_a]].corr().abs().iloc[0,-1]\n",
    "    col_b_corr = df.loc[:, ['Attrition', col_b]].corr().abs().iloc[0,-1]\n",
    "    try:\n",
    "        col_to_rm = col_b if col_a_corr >= col_b_corr else col_a\n",
    "        num_df = num_df.drop(col_to_rm, axis=1)\n",
    "    except KeyError:\n",
    "        print(col_to_rm, 'already removed')"
   ]
  },
  {
   "cell_type": "markdown",
   "id": "b9287023",
   "metadata": {},
   "source": [
    "Cleared Dataset"
   ]
  },
  {
   "cell_type": "code",
   "execution_count": 15,
   "id": "da5681af",
   "metadata": {},
   "outputs": [],
   "source": [
    "_X = pd.concat([one_hot_encoded, num_df], axis=1) # df.drop(['Attrition'],axis=1)\n",
    "_y = df['Attrition']"
   ]
  },
  {
   "cell_type": "code",
   "execution_count": 16,
   "id": "19629bc5",
   "metadata": {},
   "outputs": [],
   "source": [
    "X_train, X_test, y_train, y_test = train_test_split(_X, _y, test_size=0.3, random_state=42, stratify=_y)"
   ]
  },
  {
   "cell_type": "markdown",
   "id": "edf917df",
   "metadata": {},
   "source": [
    "Baseline model feature importances"
   ]
  },
  {
   "cell_type": "code",
   "execution_count": 17,
   "id": "069c8d44",
   "metadata": {},
   "outputs": [],
   "source": [
    "baseline_tree_model = tree.DecisionTreeClassifier()"
   ]
  },
  {
   "cell_type": "code",
   "execution_count": 18,
   "id": "34a1fe7d",
   "metadata": {},
   "outputs": [
    {
     "data": {
      "text/html": [
       "<style>#sk-container-id-1 {color: black;}#sk-container-id-1 pre{padding: 0;}#sk-container-id-1 div.sk-toggleable {background-color: white;}#sk-container-id-1 label.sk-toggleable__label {cursor: pointer;display: block;width: 100%;margin-bottom: 0;padding: 0.3em;box-sizing: border-box;text-align: center;}#sk-container-id-1 label.sk-toggleable__label-arrow:before {content: \"▸\";float: left;margin-right: 0.25em;color: #696969;}#sk-container-id-1 label.sk-toggleable__label-arrow:hover:before {color: black;}#sk-container-id-1 div.sk-estimator:hover label.sk-toggleable__label-arrow:before {color: black;}#sk-container-id-1 div.sk-toggleable__content {max-height: 0;max-width: 0;overflow: hidden;text-align: left;background-color: #f0f8ff;}#sk-container-id-1 div.sk-toggleable__content pre {margin: 0.2em;color: black;border-radius: 0.25em;background-color: #f0f8ff;}#sk-container-id-1 input.sk-toggleable__control:checked~div.sk-toggleable__content {max-height: 200px;max-width: 100%;overflow: auto;}#sk-container-id-1 input.sk-toggleable__control:checked~label.sk-toggleable__label-arrow:before {content: \"▾\";}#sk-container-id-1 div.sk-estimator input.sk-toggleable__control:checked~label.sk-toggleable__label {background-color: #d4ebff;}#sk-container-id-1 div.sk-label input.sk-toggleable__control:checked~label.sk-toggleable__label {background-color: #d4ebff;}#sk-container-id-1 input.sk-hidden--visually {border: 0;clip: rect(1px 1px 1px 1px);clip: rect(1px, 1px, 1px, 1px);height: 1px;margin: -1px;overflow: hidden;padding: 0;position: absolute;width: 1px;}#sk-container-id-1 div.sk-estimator {font-family: monospace;background-color: #f0f8ff;border: 1px dotted black;border-radius: 0.25em;box-sizing: border-box;margin-bottom: 0.5em;}#sk-container-id-1 div.sk-estimator:hover {background-color: #d4ebff;}#sk-container-id-1 div.sk-parallel-item::after {content: \"\";width: 100%;border-bottom: 1px solid gray;flex-grow: 1;}#sk-container-id-1 div.sk-label:hover label.sk-toggleable__label {background-color: #d4ebff;}#sk-container-id-1 div.sk-serial::before {content: \"\";position: absolute;border-left: 1px solid gray;box-sizing: border-box;top: 0;bottom: 0;left: 50%;z-index: 0;}#sk-container-id-1 div.sk-serial {display: flex;flex-direction: column;align-items: center;background-color: white;padding-right: 0.2em;padding-left: 0.2em;position: relative;}#sk-container-id-1 div.sk-item {position: relative;z-index: 1;}#sk-container-id-1 div.sk-parallel {display: flex;align-items: stretch;justify-content: center;background-color: white;position: relative;}#sk-container-id-1 div.sk-item::before, #sk-container-id-1 div.sk-parallel-item::before {content: \"\";position: absolute;border-left: 1px solid gray;box-sizing: border-box;top: 0;bottom: 0;left: 50%;z-index: -1;}#sk-container-id-1 div.sk-parallel-item {display: flex;flex-direction: column;z-index: 1;position: relative;background-color: white;}#sk-container-id-1 div.sk-parallel-item:first-child::after {align-self: flex-end;width: 50%;}#sk-container-id-1 div.sk-parallel-item:last-child::after {align-self: flex-start;width: 50%;}#sk-container-id-1 div.sk-parallel-item:only-child::after {width: 0;}#sk-container-id-1 div.sk-dashed-wrapped {border: 1px dashed gray;margin: 0 0.4em 0.5em 0.4em;box-sizing: border-box;padding-bottom: 0.4em;background-color: white;}#sk-container-id-1 div.sk-label label {font-family: monospace;font-weight: bold;display: inline-block;line-height: 1.2em;}#sk-container-id-1 div.sk-label-container {text-align: center;}#sk-container-id-1 div.sk-container {/* jupyter's `normalize.less` sets `[hidden] { display: none; }` but bootstrap.min.css set `[hidden] { display: none !important; }` so we also need the `!important` here to be able to override the default hidden behavior on the sphinx rendered scikit-learn.org. See: https://github.com/scikit-learn/scikit-learn/issues/21755 */display: inline-block !important;position: relative;}#sk-container-id-1 div.sk-text-repr-fallback {display: none;}</style><div id=\"sk-container-id-1\" class=\"sk-top-container\"><div class=\"sk-text-repr-fallback\"><pre>DecisionTreeClassifier()</pre><b>In a Jupyter environment, please rerun this cell to show the HTML representation or trust the notebook. <br />On GitHub, the HTML representation is unable to render, please try loading this page with nbviewer.org.</b></div><div class=\"sk-container\" hidden><div class=\"sk-item\"><div class=\"sk-estimator sk-toggleable\"><input class=\"sk-toggleable__control sk-hidden--visually\" id=\"sk-estimator-id-1\" type=\"checkbox\" checked><label for=\"sk-estimator-id-1\" class=\"sk-toggleable__label sk-toggleable__label-arrow\">DecisionTreeClassifier</label><div class=\"sk-toggleable__content\"><pre>DecisionTreeClassifier()</pre></div></div></div></div></div>"
      ],
      "text/plain": [
       "DecisionTreeClassifier()"
      ]
     },
     "execution_count": 18,
     "metadata": {},
     "output_type": "execute_result"
    }
   ],
   "source": [
    "baseline_tree_model.fit(X_train, y_train)"
   ]
  },
  {
   "cell_type": "code",
   "execution_count": 19,
   "id": "39e85f3d",
   "metadata": {},
   "outputs": [],
   "source": [
    "tree_importances = pd.DataFrame(\n",
    "    baseline_tree_model.feature_importances_,\n",
    "    index=baseline_tree_model.feature_names_in_,\n",
    "    columns=['importance']\n",
    "    )\n",
    "tree_importances = tree_importances.sort_values(\"importance\", ascending=False) "
   ]
  },
  {
   "cell_type": "code",
   "execution_count": 20,
   "id": "ac4af2dc",
   "metadata": {},
   "outputs": [],
   "source": [
    "features_to_remove_by_tree_feat_imp = tree_importances.importance[tree_importances.importance == 0].index"
   ]
  },
  {
   "cell_type": "code",
   "execution_count": 21,
   "id": "9a6151b6",
   "metadata": {},
   "outputs": [
    {
     "data": {
      "text/plain": [
       "Index(['TrainingTimesLastYear', 'BusinessTravel_Non-Travel',\n",
       "       'BusinessTravel_Travel_Frequently', 'JobRole_Research Director',\n",
       "       'JobRole_Manufacturing Director', 'JobRole_Manager',\n",
       "       'JobRole_Laboratory Technician', 'JobRole_Human Resources',\n",
       "       'EducationField_Other', 'EducationField_Medical',\n",
       "       'EducationField_Life Sciences', 'EducationField_Human Resources',\n",
       "       'BusinessTravel_Travel_Rarely', 'MaritalStatus_Married'],\n",
       "      dtype='object')"
      ]
     },
     "execution_count": 21,
     "metadata": {},
     "output_type": "execute_result"
    }
   ],
   "source": [
    "features_to_remove_by_tree_feat_imp"
   ]
  },
  {
   "cell_type": "markdown",
   "id": "dfa22ada",
   "metadata": {},
   "source": [
    "VIF features"
   ]
  },
  {
   "cell_type": "code",
   "execution_count": 22,
   "id": "dbab5c24",
   "metadata": {},
   "outputs": [],
   "source": [
    "vif_threshold = 10"
   ]
  },
  {
   "cell_type": "code",
   "execution_count": 23,
   "id": "216be746",
   "metadata": {},
   "outputs": [],
   "source": [
    "X_train__ = X_train.copy()"
   ]
  },
  {
   "cell_type": "code",
   "execution_count": 24,
   "id": "9f18b9b9",
   "metadata": {},
   "outputs": [],
   "source": [
    "def calculate_vif(df):\n",
    "    vif_data = df.copy() # vif_data = add_constant(df)\n",
    "    vif_values = pd.Series([variance_inflation_factor(vif_data.values, i) \n",
    "                            for i in range(vif_data.shape[1])],\n",
    "                           index=vif_data.columns)\n",
    "    return vif_values"
   ]
  },
  {
   "cell_type": "code",
   "execution_count": 25,
   "id": "5575b766",
   "metadata": {},
   "outputs": [
    {
     "name": "stdout",
     "output_type": "stream",
     "text": [
      "Removing BusinessTravel_Non-Travel (VIF: inf)\n"
     ]
    },
    {
     "name": "stderr",
     "output_type": "stream",
     "text": [
      "C:\\ProgramData\\anaconda3\\Lib\\site-packages\\statsmodels\\stats\\outliers_influence.py:198: RuntimeWarning: divide by zero encountered in scalar divide\n",
      "  vif = 1. / (1. - r_squared_i)\n",
      "C:\\ProgramData\\anaconda3\\Lib\\site-packages\\statsmodels\\stats\\outliers_influence.py:198: RuntimeWarning: divide by zero encountered in scalar divide\n",
      "  vif = 1. / (1. - r_squared_i)\n"
     ]
    },
    {
     "name": "stdout",
     "output_type": "stream",
     "text": [
      "Removing Department_Human Resources (VIF: inf)\n",
      "Removing EducationField_Human Resources (VIF: inf)\n",
      "Removing Gender_Female (VIF: inf)\n"
     ]
    },
    {
     "name": "stderr",
     "output_type": "stream",
     "text": [
      "C:\\ProgramData\\anaconda3\\Lib\\site-packages\\statsmodels\\stats\\outliers_influence.py:198: RuntimeWarning: divide by zero encountered in scalar divide\n",
      "  vif = 1. / (1. - r_squared_i)\n",
      "C:\\ProgramData\\anaconda3\\Lib\\site-packages\\statsmodels\\stats\\outliers_influence.py:198: RuntimeWarning: divide by zero encountered in scalar divide\n",
      "  vif = 1. / (1. - r_squared_i)\n",
      "C:\\ProgramData\\anaconda3\\Lib\\site-packages\\statsmodels\\stats\\outliers_influence.py:198: RuntimeWarning: divide by zero encountered in scalar divide\n",
      "  vif = 1. / (1. - r_squared_i)\n"
     ]
    },
    {
     "name": "stdout",
     "output_type": "stream",
     "text": [
      "Removing JobRole_Healthcare Representative (VIF: inf)\n",
      "Removing MaritalStatus_Divorced (VIF: inf)\n",
      "Removing OverTime_No (VIF: 257.5473615734532)\n"
     ]
    },
    {
     "name": "stderr",
     "output_type": "stream",
     "text": [
      "C:\\ProgramData\\anaconda3\\Lib\\site-packages\\statsmodels\\stats\\outliers_influence.py:198: RuntimeWarning: divide by zero encountered in scalar divide\n",
      "  vif = 1. / (1. - r_squared_i)\n"
     ]
    },
    {
     "name": "stdout",
     "output_type": "stream",
     "text": [
      "Removing Department_Research & Development (VIF: 91.34014046052862)\n",
      "Removing EducationField_Life Sciences (VIF: 23.407197357446314)\n",
      "Removing Department_Sales (VIF: 19.660474581046582)\n",
      "Removing JobInvolvement (VIF: 15.18646314797693)\n",
      "Removing WorkLifeBalance (VIF: 14.919347414275538)\n"
     ]
    }
   ],
   "source": [
    "features_to_remove_by_vip = list()\n",
    "while True:\n",
    "    vif_values = calculate_vif(X_train__)\n",
    "    max_vif_feature = vif_values.idxmax()\n",
    "    max_vif = vif_values[max_vif_feature]\n",
    "    if max_vif > vif_threshold:\n",
    "        print(f\"Removing {max_vif_feature} (VIF: {max_vif})\")\n",
    "        X_train__ = X_train__.drop(columns=max_vif_feature)\n",
    "        features_to_remove_by_vip.append(max_vif_feature)\n",
    "    else:\n",
    "        break"
   ]
  },
  {
   "cell_type": "markdown",
   "id": "5a14d875",
   "metadata": {},
   "source": [
    "Shap 0 features"
   ]
  },
  {
   "cell_type": "code",
   "execution_count": 26,
   "id": "f992f3a9",
   "metadata": {},
   "outputs": [],
   "source": [
    "explainer = shap.TreeExplainer(baseline_tree_model)\n",
    "shap_values = explainer.shap_values(X_train)\n",
    "abs_sv = np.abs(shap_values)\n",
    "avg_feature_importance_per_class = np.mean(abs_sv, axis=(0,2))"
   ]
  },
  {
   "cell_type": "code",
   "execution_count": 27,
   "id": "4aedfac7",
   "metadata": {},
   "outputs": [],
   "source": [
    "features_to_remove_by_shap = list()\n",
    "shap_imps = pd.DataFrame(\n",
    "    avg_feature_importance_per_class,\n",
    "    index=baseline_tree_model.feature_names_in_,\n",
    "    columns=['importance']\n",
    "    )\n",
    "shap_imps = shap_imps.sort_values(\"importance\", ascending=False) "
   ]
  },
  {
   "cell_type": "code",
   "execution_count": 28,
   "id": "5328ebb4",
   "metadata": {},
   "outputs": [
    {
     "data": {
      "text/plain": [
       "Index(['TrainingTimesLastYear', 'BusinessTravel_Non-Travel',\n",
       "       'BusinessTravel_Travel_Frequently', 'JobRole_Research Director',\n",
       "       'JobRole_Manufacturing Director', 'JobRole_Manager',\n",
       "       'JobRole_Laboratory Technician', 'JobRole_Human Resources',\n",
       "       'EducationField_Other', 'EducationField_Medical',\n",
       "       'EducationField_Life Sciences', 'EducationField_Human Resources',\n",
       "       'BusinessTravel_Travel_Rarely', 'MaritalStatus_Married'],\n",
       "      dtype='object')"
      ]
     },
     "execution_count": 28,
     "metadata": {},
     "output_type": "execute_result"
    }
   ],
   "source": [
    "features_to_remove_by_shap = shap_imps.importance[shap_imps.importance == 0].index\n",
    "features_to_remove_by_shap"
   ]
  },
  {
   "cell_type": "code",
   "execution_count": 29,
   "id": "455def22",
   "metadata": {},
   "outputs": [],
   "source": [
    "features_to_remove_by_corr = list(features_to_remove_by_tree_feat_imp) + list(features_to_remove_by_vip) + list(features_to_remove_by_shap)"
   ]
  },
  {
   "cell_type": "code",
   "execution_count": 30,
   "id": "3f1cc822",
   "metadata": {},
   "outputs": [
    {
     "data": {
      "text/plain": [
       "['TrainingTimesLastYear',\n",
       " 'BusinessTravel_Non-Travel',\n",
       " 'BusinessTravel_Travel_Frequently',\n",
       " 'JobRole_Research Director',\n",
       " 'JobRole_Manufacturing Director',\n",
       " 'JobRole_Manager',\n",
       " 'JobRole_Laboratory Technician',\n",
       " 'JobRole_Human Resources',\n",
       " 'EducationField_Other',\n",
       " 'EducationField_Medical',\n",
       " 'EducationField_Life Sciences',\n",
       " 'EducationField_Human Resources',\n",
       " 'BusinessTravel_Travel_Rarely',\n",
       " 'MaritalStatus_Married',\n",
       " 'BusinessTravel_Non-Travel',\n",
       " 'Department_Human Resources',\n",
       " 'EducationField_Human Resources',\n",
       " 'Gender_Female',\n",
       " 'JobRole_Healthcare Representative',\n",
       " 'MaritalStatus_Divorced',\n",
       " 'OverTime_No',\n",
       " 'Department_Research & Development',\n",
       " 'EducationField_Life Sciences',\n",
       " 'Department_Sales',\n",
       " 'JobInvolvement',\n",
       " 'WorkLifeBalance',\n",
       " 'TrainingTimesLastYear',\n",
       " 'BusinessTravel_Non-Travel',\n",
       " 'BusinessTravel_Travel_Frequently',\n",
       " 'JobRole_Research Director',\n",
       " 'JobRole_Manufacturing Director',\n",
       " 'JobRole_Manager',\n",
       " 'JobRole_Laboratory Technician',\n",
       " 'JobRole_Human Resources',\n",
       " 'EducationField_Other',\n",
       " 'EducationField_Medical',\n",
       " 'EducationField_Life Sciences',\n",
       " 'EducationField_Human Resources',\n",
       " 'BusinessTravel_Travel_Rarely',\n",
       " 'MaritalStatus_Married']"
      ]
     },
     "execution_count": 30,
     "metadata": {},
     "output_type": "execute_result"
    }
   ],
   "source": [
    "features_to_remove_by_corr"
   ]
  },
  {
   "cell_type": "markdown",
   "id": "fe08ef9a",
   "metadata": {},
   "source": [
    "Recursive feature elimination"
   ]
  },
  {
   "cell_type": "code",
   "execution_count": 31,
   "id": "f0d1a0ea",
   "metadata": {},
   "outputs": [
    {
     "name": "stdout",
     "output_type": "stream",
     "text": [
      "[False False False False False  True False False False False False  True\n",
      " False False False  True False False False False  True  True False False\n",
      " False  True  True False  True  True  True False  True  True  True  True\n",
      "  True  True  True  True  True  True False  True  True  True False  True]\n",
      "[25 22 23 21 20  1 18 13  7 17 11  1 10  2  9  1 14 19 15 16  1  1  3  5\n",
      " 24  1  1  8  1  1  1 12  1  1  1  1  1  1  1  1  1  1  6  1  1  1  4  1]\n"
     ]
    }
   ],
   "source": [
    "from sklearn.feature_selection import RFE\n",
    "\n",
    "rfe = RFE(baseline_tree_model)\n",
    "rfe = rfe.fit(X_train,y_train)\n",
    "print(rfe.support_)\n",
    "print(rfe.ranking_)"
   ]
  },
  {
   "cell_type": "code",
   "execution_count": 32,
   "id": "01e23197",
   "metadata": {},
   "outputs": [],
   "source": [
    "features_to_remove_by_rfe = baseline_tree_model.feature_names_in_[~rfe.support_]"
   ]
  },
  {
   "cell_type": "code",
   "execution_count": 33,
   "id": "87b8292f",
   "metadata": {},
   "outputs": [
    {
     "data": {
      "text/plain": [
       "23"
      ]
     },
     "execution_count": 33,
     "metadata": {},
     "output_type": "execute_result"
    }
   ],
   "source": [
    "len(set(features_to_remove_by_corr))"
   ]
  },
  {
   "cell_type": "code",
   "execution_count": 34,
   "id": "9724bfb8",
   "metadata": {},
   "outputs": [
    {
     "data": {
      "text/plain": [
       "24"
      ]
     },
     "execution_count": 34,
     "metadata": {},
     "output_type": "execute_result"
    }
   ],
   "source": [
    "len(set(features_to_remove_by_rfe))"
   ]
  },
  {
   "cell_type": "code",
   "execution_count": 35,
   "id": "1ed17b5b",
   "metadata": {},
   "outputs": [
    {
     "data": {
      "text/plain": [
       "18"
      ]
     },
     "execution_count": 35,
     "metadata": {},
     "output_type": "execute_result"
    }
   ],
   "source": [
    "features_to_remove = set(features_to_remove_by_corr).intersection(set(features_to_remove_by_rfe))\n",
    "len(features_to_remove)"
   ]
  },
  {
   "cell_type": "code",
   "execution_count": 83,
   "id": "e839abff",
   "metadata": {},
   "outputs": [
    {
     "data": {
      "text/plain": [
       "{'BusinessTravel_Non-Travel',\n",
       " 'BusinessTravel_Travel_Frequently',\n",
       " 'BusinessTravel_Travel_Rarely',\n",
       " 'Department_Human Resources',\n",
       " 'Department_Research & Development',\n",
       " 'EducationField_Human Resources',\n",
       " 'EducationField_Life Sciences',\n",
       " 'EducationField_Medical',\n",
       " 'EducationField_Other',\n",
       " 'Gender_Female',\n",
       " 'JobRole_Healthcare Representative',\n",
       " 'JobRole_Laboratory Technician',\n",
       " 'JobRole_Manager',\n",
       " 'JobRole_Manufacturing Director',\n",
       " 'JobRole_Research Director',\n",
       " 'MaritalStatus_Divorced',\n",
       " 'MaritalStatus_Married',\n",
       " 'TrainingTimesLastYear'}"
      ]
     },
     "execution_count": 83,
     "metadata": {},
     "output_type": "execute_result"
    }
   ],
   "source": [
    "features_to_remove"
   ]
  },
  {
   "cell_type": "code",
   "execution_count": 84,
   "id": "66a2b93d",
   "metadata": {},
   "outputs": [
    {
     "data": {
      "text/html": [
       "<div>\n",
       "<style scoped>\n",
       "    .dataframe tbody tr th:only-of-type {\n",
       "        vertical-align: middle;\n",
       "    }\n",
       "\n",
       "    .dataframe tbody tr th {\n",
       "        vertical-align: top;\n",
       "    }\n",
       "\n",
       "    .dataframe thead th {\n",
       "        text-align: right;\n",
       "    }\n",
       "</style>\n",
       "<table border=\"1\" class=\"dataframe\">\n",
       "  <thead>\n",
       "    <tr style=\"text-align: right;\">\n",
       "      <th></th>\n",
       "      <th>Feature</th>\n",
       "      <th>Importance</th>\n",
       "    </tr>\n",
       "  </thead>\n",
       "  <tbody>\n",
       "    <tr>\n",
       "      <th>18</th>\n",
       "      <td>OverTime</td>\n",
       "      <td>7.963267</td>\n",
       "    </tr>\n",
       "    <tr>\n",
       "      <th>15</th>\n",
       "      <td>MonthlyIncome</td>\n",
       "      <td>6.567036</td>\n",
       "    </tr>\n",
       "    <tr>\n",
       "      <th>0</th>\n",
       "      <td>Age</td>\n",
       "      <td>5.533873</td>\n",
       "    </tr>\n",
       "    <tr>\n",
       "      <th>13</th>\n",
       "      <td>JobSatisfaction</td>\n",
       "      <td>4.804943</td>\n",
       "    </tr>\n",
       "    <tr>\n",
       "      <th>9</th>\n",
       "      <td>HourlyRate</td>\n",
       "      <td>4.754203</td>\n",
       "    </tr>\n",
       "    <tr>\n",
       "      <th>4</th>\n",
       "      <td>DistanceFromHome</td>\n",
       "      <td>4.428343</td>\n",
       "    </tr>\n",
       "    <tr>\n",
       "      <th>16</th>\n",
       "      <td>MonthlyRate</td>\n",
       "      <td>4.398859</td>\n",
       "    </tr>\n",
       "    <tr>\n",
       "      <th>12</th>\n",
       "      <td>JobRole</td>\n",
       "      <td>4.205455</td>\n",
       "    </tr>\n",
       "    <tr>\n",
       "      <th>2</th>\n",
       "      <td>DailyRate</td>\n",
       "      <td>4.205135</td>\n",
       "    </tr>\n",
       "    <tr>\n",
       "      <th>7</th>\n",
       "      <td>EnvironmentSatisfaction</td>\n",
       "      <td>4.204168</td>\n",
       "    </tr>\n",
       "    <tr>\n",
       "      <th>21</th>\n",
       "      <td>RelationshipSatisfaction</td>\n",
       "      <td>4.031393</td>\n",
       "    </tr>\n",
       "    <tr>\n",
       "      <th>22</th>\n",
       "      <td>StockOptionLevel</td>\n",
       "      <td>3.703234</td>\n",
       "    </tr>\n",
       "    <tr>\n",
       "      <th>29</th>\n",
       "      <td>YearsWithCurrManager</td>\n",
       "      <td>3.652633</td>\n",
       "    </tr>\n",
       "    <tr>\n",
       "      <th>17</th>\n",
       "      <td>NumCompaniesWorked</td>\n",
       "      <td>3.626192</td>\n",
       "    </tr>\n",
       "    <tr>\n",
       "      <th>25</th>\n",
       "      <td>WorkLifeBalance</td>\n",
       "      <td>3.145704</td>\n",
       "    </tr>\n",
       "    <tr>\n",
       "      <th>19</th>\n",
       "      <td>PercentSalaryHike</td>\n",
       "      <td>3.031307</td>\n",
       "    </tr>\n",
       "    <tr>\n",
       "      <th>28</th>\n",
       "      <td>YearsSinceLastPromotion</td>\n",
       "      <td>2.976616</td>\n",
       "    </tr>\n",
       "    <tr>\n",
       "      <th>14</th>\n",
       "      <td>MaritalStatus</td>\n",
       "      <td>2.967068</td>\n",
       "    </tr>\n",
       "    <tr>\n",
       "      <th>23</th>\n",
       "      <td>TotalWorkingYears</td>\n",
       "      <td>2.846529</td>\n",
       "    </tr>\n",
       "    <tr>\n",
       "      <th>24</th>\n",
       "      <td>TrainingTimesLastYear</td>\n",
       "      <td>2.275428</td>\n",
       "    </tr>\n",
       "    <tr>\n",
       "      <th>11</th>\n",
       "      <td>JobLevel</td>\n",
       "      <td>2.209249</td>\n",
       "    </tr>\n",
       "    <tr>\n",
       "      <th>10</th>\n",
       "      <td>JobInvolvement</td>\n",
       "      <td>2.143694</td>\n",
       "    </tr>\n",
       "    <tr>\n",
       "      <th>27</th>\n",
       "      <td>YearsInCurrentRole</td>\n",
       "      <td>2.103089</td>\n",
       "    </tr>\n",
       "    <tr>\n",
       "      <th>1</th>\n",
       "      <td>BusinessTravel</td>\n",
       "      <td>1.918016</td>\n",
       "    </tr>\n",
       "    <tr>\n",
       "      <th>26</th>\n",
       "      <td>YearsAtCompany</td>\n",
       "      <td>1.902836</td>\n",
       "    </tr>\n",
       "    <tr>\n",
       "      <th>6</th>\n",
       "      <td>EducationField</td>\n",
       "      <td>1.846884</td>\n",
       "    </tr>\n",
       "    <tr>\n",
       "      <th>5</th>\n",
       "      <td>Education</td>\n",
       "      <td>1.826796</td>\n",
       "    </tr>\n",
       "    <tr>\n",
       "      <th>3</th>\n",
       "      <td>Department</td>\n",
       "      <td>1.307979</td>\n",
       "    </tr>\n",
       "    <tr>\n",
       "      <th>8</th>\n",
       "      <td>Gender</td>\n",
       "      <td>1.151925</td>\n",
       "    </tr>\n",
       "    <tr>\n",
       "      <th>20</th>\n",
       "      <td>PerformanceRating</td>\n",
       "      <td>0.268147</td>\n",
       "    </tr>\n",
       "  </tbody>\n",
       "</table>\n",
       "</div>"
      ],
      "text/plain": [
       "                     Feature  Importance\n",
       "18                  OverTime    7.963267\n",
       "15             MonthlyIncome    6.567036\n",
       "0                        Age    5.533873\n",
       "13           JobSatisfaction    4.804943\n",
       "9                 HourlyRate    4.754203\n",
       "4           DistanceFromHome    4.428343\n",
       "16               MonthlyRate    4.398859\n",
       "12                   JobRole    4.205455\n",
       "2                  DailyRate    4.205135\n",
       "7    EnvironmentSatisfaction    4.204168\n",
       "21  RelationshipSatisfaction    4.031393\n",
       "22          StockOptionLevel    3.703234\n",
       "29      YearsWithCurrManager    3.652633\n",
       "17        NumCompaniesWorked    3.626192\n",
       "25           WorkLifeBalance    3.145704\n",
       "19         PercentSalaryHike    3.031307\n",
       "28   YearsSinceLastPromotion    2.976616\n",
       "14             MaritalStatus    2.967068\n",
       "23         TotalWorkingYears    2.846529\n",
       "24     TrainingTimesLastYear    2.275428\n",
       "11                  JobLevel    2.209249\n",
       "10            JobInvolvement    2.143694\n",
       "27        YearsInCurrentRole    2.103089\n",
       "1             BusinessTravel    1.918016\n",
       "26            YearsAtCompany    1.902836\n",
       "6             EducationField    1.846884\n",
       "5                  Education    1.826796\n",
       "3                 Department    1.307979\n",
       "8                     Gender    1.151925\n",
       "20         PerformanceRating    0.268147"
      ]
     },
     "execution_count": 84,
     "metadata": {},
     "output_type": "execute_result"
    }
   ],
   "source": [
    "importance_df"
   ]
  },
  {
   "cell_type": "markdown",
   "id": "76e45d00",
   "metadata": {},
   "source": [
    "Filter out"
   ]
  },
  {
   "cell_type": "code",
   "execution_count": 36,
   "id": "92af9f67",
   "metadata": {},
   "outputs": [],
   "source": [
    "X_train_ = X_train[[c for c in X_train.columns if c not in features_to_remove]]\n",
    "X_test_ = X_test[[c for c in X_test.columns if c not in features_to_remove]]"
   ]
  },
  {
   "cell_type": "code",
   "execution_count": 37,
   "id": "45fce117",
   "metadata": {},
   "outputs": [],
   "source": [
    "with open('dataset/trainable.p', 'wb') as f:\n",
    "    pickle.dump(\n",
    "                {\n",
    "                    'pd_version' : pd.__version__,\n",
    "                    'X_train' : X_train_,\n",
    "                    'X_test' : X_test_,\n",
    "                    'y_train' : y_train,\n",
    "                    'y_test' : y_test,\n",
    "                }, f)"
   ]
  },
  {
   "cell_type": "code",
   "execution_count": null,
   "id": "d7557f40",
   "metadata": {},
   "outputs": [],
   "source": []
  },
  {
   "cell_type": "code",
   "execution_count": null,
   "id": "f18e4ab2",
   "metadata": {},
   "outputs": [],
   "source": []
  }
 ],
 "metadata": {
  "kernelspec": {
   "display_name": "Python 3 (ipykernel)",
   "language": "python",
   "name": "python3"
  },
  "language_info": {
   "codemirror_mode": {
    "name": "ipython",
    "version": 3
   },
   "file_extension": ".py",
   "mimetype": "text/x-python",
   "name": "python",
   "nbconvert_exporter": "python",
   "pygments_lexer": "ipython3",
   "version": "3.11.4"
  }
 },
 "nbformat": 4,
 "nbformat_minor": 5
}
